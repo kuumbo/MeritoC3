{
  "nbformat": 4,
  "nbformat_minor": 0,
  "metadata": {
    "colab": {
      "provenance": []
    },
    "kernelspec": {
      "name": "python3",
      "display_name": "Python 3"
    },
    "language_info": {
      "name": "python"
    }
  },
  "cells": [
    {
      "cell_type": "code",
      "execution_count": null,
      "metadata": {
        "id": "qEfj202_e6Ti"
      },
      "outputs": [],
      "source": [
        "#1. Write a Python program to handle a ZeroDivisionError exception when dividing a number by zero.\n",
        "def divide_numbers(x, y):\n",
        "    try:\n",
        "        result = x / y\n",
        "        print(\"Result:\", result)\n",
        "    except ZeroDivisionError:\n",
        "        print(\"The division by zero operation is not allowed.\")\n",
        "numerator = 100\n",
        "denominator = 0\n",
        "divide_numbers(numerator, denominator)\n"
      ]
    },
    {
      "cell_type": "code",
      "source": [
        "#2. Write a Python program that prompts the user to input an integer and raises a ValueError exception if the input is not a valid integer.\n",
        "def get_integer_input(prompt):\n",
        "    try:\n",
        "        value = int(input(prompt))\n",
        "        return value\n",
        "    except ValueError:\n",
        "        print(\"Error: Invalid input, input a valid integer.\")\n",
        "\n",
        "n = get_integer_input(\"Input an integer: \")\n",
        "print(\"Input value:\", n)\n"
      ],
      "metadata": {
        "id": "kTYiHdpSe_OX"
      },
      "execution_count": null,
      "outputs": []
    },
    {
      "cell_type": "code",
      "source": [
        "#3. Write a Python program that opens a file and handles a FileNotFoundError exception if the file does not exist.\n",
        "def open_file(filename):\n",
        "    try:\n",
        "        file = open(filename, 'r')\n",
        "        contents = file.read()\n",
        "        print(\"File contents:\")\n",
        "        print(contents)\n",
        "        file.close()\n",
        "    except FileNotFoundError:\n",
        "        print(\"Error: File not found.\")\n",
        "file_name = input(\"Input a file name: \")\n",
        "open_file(file_name)\n"
      ],
      "metadata": {
        "id": "t0JFUtZvfYqA"
      },
      "execution_count": null,
      "outputs": []
    },
    {
      "cell_type": "code",
      "source": [
        "#4. Write a Python program that prompts the user to input two numbers and raises a TypeError exception if the inputs are not numerical.\n",
        "def get_numeric_input(prompt):\n",
        "    while True:\n",
        "        try:\n",
        "            value = float(input(prompt))\n",
        "            return value\n",
        "        except ValueError:\n",
        "            print(\"Error: Invalid input. Please Input a valid number.\")\n",
        "n1 = get_numeric_input(\"Input the first number: \")\n",
        "n2 = get_numeric_input(\"Input the second number: \")\n",
        "result = n1 * n2\n",
        "print(\"Product of the said two numbers:\", result)\n"
      ],
      "metadata": {
        "id": "XLHENEtAfa2L"
      },
      "execution_count": null,
      "outputs": []
    },
    {
      "cell_type": "code",
      "source": [
        "#5. Write a Python program that opens a file and handles a PermissionError exception if there is a permission issue.\n",
        "def open_file(filename):\n",
        "    try:\n",
        "        with open(filename, 'w') as file:\n",
        "            contents = file.read()\n",
        "            print(\"File contents:\")\n",
        "            print(contents)\n",
        "    except PermissionError:\n",
        "        print(\"Error: Permission denied to open the file.\")\n",
        "file_name = input(\"Input a file name: \")\n",
        "open_file(file_name)\n"
      ],
      "metadata": {
        "id": "mpputTKHfc3p"
      },
      "execution_count": null,
      "outputs": []
    },
    {
      "cell_type": "code",
      "source": [
        "#6. Write a Python program that executes an operation on a list and handles an IndexError exception if the index is out of range.\n",
        "def test_index(data, index):\n",
        "    try:\n",
        "        result = data[index]\n",
        "        print(\"Result:\", result)\n",
        "    except IndexError:\n",
        "        print(\"Error: Index out of range.\")\n",
        "nums = [1, 2, 3, 4, 5, 6, 7]\n",
        "index = int(input(\"Input the index: \"))\n",
        "test_index(nums, index)\n"
      ],
      "metadata": {
        "id": "sagnTZkhffry"
      },
      "execution_count": null,
      "outputs": []
    },
    {
      "cell_type": "code",
      "source": [
        "#7. Write a Python program that prompts the user to input a number and handles a KeyboardInterrupt exception if the user cancels the input.\n",
        "try:\n",
        "    n = int(input(\"Input a number: \"))\n",
        "    print(\"You entered:\", n)\n",
        "except KeyboardInterrupt:\n",
        "    print(\"Input canceled by the user.\")\n"
      ],
      "metadata": {
        "id": "pP2Rw6zyfhz-"
      },
      "execution_count": null,
      "outputs": []
    },
    {
      "cell_type": "code",
      "source": [
        "#8. Write a Python program that executes division and handles an ArithmeticError exception if there is an arithmetic error.\n",
        "def division(dividend, divisor):\n",
        "    try:\n",
        "        result = dividend / divisor\n",
        "        print(\"Result:\", result)\n",
        "    except ArithmeticError:\n",
        "        print(\"Error: Arithmetic error occurred!\")\n",
        "\n",
        "dividend = float(input(\"Input the dividend: \"))\n",
        "divisor = float(input(\"Input the divisor: \"))\n",
        "division(dividend, divisor)\n"
      ],
      "metadata": {
        "id": "rT7bpIlmfkX2"
      },
      "execution_count": null,
      "outputs": []
    },
    {
      "cell_type": "code",
      "source": [
        "#9. Write a Python program that opens a file and handles a UnicodeDecodeError exception if there is an encoding issue.\n",
        "def open_file(filename):\n",
        "    encoding = input(\"Input the encoding (ASCII, UTF-16, UTF-8) for the file: \")\n",
        "    try:\n",
        "        with open(filename, 'r', encoding=encoding) as file:\n",
        "            contents = file.read()\n",
        "            print(\"File contents:\")\n",
        "            print(contents)\n",
        "    except UnicodeDecodeError:\n",
        "        print(\"Error: Encoding issue occurred while reading the file.\")\n",
        "file_name = input(\"Input the file name: \")\n",
        "open_file(file_name)\n"
      ],
      "metadata": {
        "id": "AoTog9Xrfnhy"
      },
      "execution_count": null,
      "outputs": []
    },
    {
      "cell_type": "code",
      "source": [
        "#10. Write a Python program that executes a list operation and handles an AttributeError exception if the attribute does not exist.\n",
        "def test_list_operation(nums):\n",
        "    try:\n",
        "        r = len(nums)\n",
        "        print(\"Length of the list:\", r)\n",
        "    except AttributeError:\n",
        "        print(\"Error: The list does not have a 'length' attribute.\")\n",
        "nums = [1, 2, 3, 4, 5]\n",
        "test_list_operation(nums)\n"
      ],
      "metadata": {
        "id": "bpGdVvEbfoWv"
      },
      "execution_count": null,
      "outputs": []
    }
  ]
}