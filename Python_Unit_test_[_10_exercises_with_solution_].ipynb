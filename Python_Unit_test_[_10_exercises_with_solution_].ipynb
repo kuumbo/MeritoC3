{
  "nbformat": 4,
  "nbformat_minor": 0,
  "metadata": {
    "colab": {
      "provenance": []
    },
    "kernelspec": {
      "name": "python3",
      "display_name": "Python 3"
    },
    "language_info": {
      "name": "python"
    }
  },
  "cells": [
    {
      "cell_type": "code",
      "source": [
        "#1. Write a Python unit test program to check if a given number is prime or not.\n",
        "import unittest\n",
        "def is_prime(number):\n",
        "    if number < 2:\n",
        "        return False\n",
        "    for i in range(2, int(number**0.5) + 1):\n",
        "        if number % i == 0:\n",
        "            return False\n",
        "    return True\n",
        "class PrimeNumberTestCase(unittest.TestCase):\n",
        "    def test_prime_numbers(self):\n",
        "        prime_numbers = [2, 3, 5, 7, 11, 13, 17, 19, 23, 29, 31]\n",
        "        print(\"Prime numbers:\", prime_numbers)\n",
        "        for number in prime_numbers:\n",
        "            self.assertTrue(is_prime(number), f\"{number} is not recognized as a prime number\")\n",
        "    def test_non_prime_numbers(self):\n",
        "        non_prime_numbers = [4, 6, 8, 10, 12, 14, 16, 18, 20]\n",
        "        print(\"Non-prime numbers:\", non_prime_numbers)\n",
        "        for number in non_prime_numbers:\n",
        "            self.assertFalse(is_prime(number), f\"{number} is incorrectly recognized as a prime number\")\n",
        "if __name__ == '__main__':\n",
        "    unittest.main()\n"
      ],
      "metadata": {
        "id": "brG46dMN0WSk"
      },
      "execution_count": null,
      "outputs": []
    },
    {
      "cell_type": "code",
      "source": [
        "#2. Write a Python unit test program to check if a list is sorted in ascending order.\n",
        "import unittest\n",
        "def is_sorted_ascending(lst):\n",
        "    return all(lst[i] <= lst[i+1] for i in range(len(lst)-1)\n",
        "class TestSortedAscending(unittest.TestCase):\n",
        "    def test_sorted_list(self):\n",
        "        lst = [1, 2, 3, 4, 5, 6, 7]\n",
        "        print(\"Sorted list: \", lst)\n",
        "        self.assertTrue(is_sorted_ascending(lst), \"The list is not sorted in ascending order\")\n",
        "    def test_unsorted_list(self):\n",
        "        lst = [5, 7, 2, 8, 1, 9]\n",
        "        print(\"Unsorted list: \", lst)\n",
        "        self.assertFalse(is_sorted_ascending(lst), \"The list is sorted in ascending order\")\n",
        "if __name__ == '__main__':\n",
        "    unittest.main()\n"
      ],
      "metadata": {
        "id": "UZHBuMNx0s1g"
      },
      "execution_count": null,
      "outputs": []
    },
    {
      "cell_type": "code",
      "source": [
        "#3. Write a Python unit test program that checks if two lists are equal.\n",
        "import unittest\n",
        "def lists_are_equal(nums1, nums2):\n",
        "    return nums1 == nums2\n",
        "class TestListsEquality(unittest.TestCase):\n",
        "    def test_equal_lists(self):\n",
        "        nums1 = [10, 20, 30, 40]\n",
        "        nums2 = [10, 20, 30, 40]\n",
        "        print(\"\\nEqual list test:\\n\", nums1, \"\\n\", nums2)\n",
        "        self.assertTrue(lists_are_equal(nums1, nums2), \"The lists are not equal\")\n",
        "    def test_unequal_lists(self):\n",
        "        nums1 = [10, 20, 30, 40]\n",
        "        nums2 = [30, 20, 10, 40]\n",
        "        print(\"\\nUnequal list test:\\n\", nums1, \"\\n\", nums2)\n",
        "        self.assertFalse(lists_are_equal(nums1, nums2), \"The lists are equal\")\n",
        "if __name__ == '__main__':\n",
        "    unittest.main()\n"
      ],
      "metadata": {
        "id": "RIbFjSvo1Dzs"
      },
      "execution_count": null,
      "outputs": []
    },
    {
      "cell_type": "code",
      "source": [
        "#4. Write a  Python  unit test program to check if a string is a palindrome.\n",
        "import unittest\n",
        "def is_palindrome(string):\n",
        "    return string == string[::-1]\n",
        "class TestPalindrome(unittest.TestCase):\n",
        "    def test_palindrome_string(self):\n",
        "        palindrome = \"hello\"\n",
        "        print(\"Test palindrome:\", palindrome)\n",
        "        self.assertTrue(is_palindrome(palindrome), \"The string is not a palindrome\")\n",
        "    def test_non_palindrome_string(self):\n",
        "        non_palindrome = \"madam\"\n",
        "        print(\"Test non palindrome:\", non_palindrome)\n",
        "        self.assertFalse(is_palindrome(non_palindrome), \"The string is a palindrome\")\n",
        "if __name__ == '__main__':\n",
        "    unittest.main()\n"
      ],
      "metadata": {
        "id": "NPNlq7zw2psX"
      },
      "execution_count": null,
      "outputs": []
    },
    {
      "cell_type": "code",
      "source": [
        "#5. Write a  Python  unit test program to check if a file exists in a specified directory.\n",
        "import os\n",
        "import unittest\n",
        "def file_exists(directory, filename):\n",
        "    file_path = os.path.join(directory, filename)\n",
        "    return os.path.exists(file_path)\n",
        "class TestFileExists(unittest.TestCase):\n",
        "    def test_existing_file(self):\n",
        "        directory = '/path/txt'\n",
        "        filename = 'test1.txt'\n",
        "        self.assertTrue(file_exists(directory, filename), \"The file does not exist in the specified directory\"\n",
        "    def test_nonexistent_file(self):\n",
        "        directory = '/path/txt'\n",
        "        filename = 'test2.txt'\n",
        "        self.assertFalse(file_exists(directory, filename), \"The file exists in the specified directory\")\n",
        "if __name__ == '__main__':\n",
        "    unittest.main()\n"
      ],
      "metadata": {
        "id": "QiYGig132qoZ"
      },
      "execution_count": null,
      "outputs": []
    },
    {
      "cell_type": "code",
      "source": [
        "#6. Write a Python unit test that checks if a function handles floating-point calculations accurately.\n",
        "import unittest\n",
        "class TestFloatingPointCalculations(unittest.TestCase):\n",
        "    def test_addition(self):\n",
        "        result = 0.3 + 0.5\n",
        "        self.assertAlmostEqual(result, 0.8, places=6)\n",
        "    def test_multiplication(self):\n",
        "        result = 0.3 * 0.5\n",
        "        self.assertAlmostEqual(result, 0.15, places=6)\n",
        "    def test_division(self):\n",
        "        result = 0.7 / 0.3\n",
        "        self.assertAlmostEqual(result, 2.333333, places=6)\n",
        "if __name__ == '__main__':\n",
        "    unittest.main()\n"
      ],
      "metadata": {
        "id": "sHiBOWZp2tIW"
      },
      "execution_count": null,
      "outputs": []
    },
    {
      "cell_type": "code",
      "source": [
        "#7. Write a Python unit test program to check if a function handles multi-threading correctly.\n",
        "import unittest\n",
        "import threading\n",
        "def perform_task():\n",
        "    result = 0\n",
        "    for i in range(1, 100000):\n",
        "        result += i\n",
        "    return result\n",
        "class Test_Multi_Threading(unittest.TestCase):\n",
        "    def test_multi_threading(self):\n",
        "        num_threads = 10\n",
        "        threads = []\n",
        "        for _ in range(num_threads):\n",
        "            t = threading.Thread(target=perform_task)\n",
        "            threads.append(t)\n",
        "            t.start()\n",
        "\n",
        "        for t in threads:\n",
        "            t.join()\n",
        "\n",
        "        for t in threads:\n",
        "            self.assertFalse(t.is_alive())\n",
        "\n",
        "if __name__ == '__main__':\n",
        "    unittest.main()\n"
      ],
      "metadata": {
        "id": "L43znhSW2veK"
      },
      "execution_count": null,
      "outputs": []
    },
    {
      "cell_type": "code",
      "source": [
        "#8. Write a Python unit test program to check if a database connection is successful.\n",
        "import unittest\n",
        "import sqlite3\n",
        "class TestDatabaseConnection(unittest.TestCase):\n",
        "    def test_database_connection(self):\n",
        "        conn = sqlite3.connect(':memory:')\n",
        "        cursor = conn.cursor()\n",
        "        cursor.execute(\"SELECT 1\")\n",
        "        result = cursor.fetchone()\n",
        "        cursor.close()\n",
        "        conn.close()\n",
        "        self.assertEqual(result, (1,))\n",
        "if __name__ == '__main__':\n",
        "    unittest.main()\n"
      ],
      "metadata": {
        "id": "W7vCSUCI2xdt"
      },
      "execution_count": null,
      "outputs": []
    },
    {
      "cell_type": "code",
      "source": [
        "#9. Write a Python unit test program to check if a database query returns the expected results.\n",
        "import unittest\n",
        "import sqlite3\n",
        "\n",
        "class TestDatabaseQuery(unittest.TestCase):\n",
        "    def setUp(self):\n",
        "        self.conn = sqlite3.connect(':memory:')\n",
        "        self.cursor = self.conn.cursor()\n",
        "        self.cursor.execute(\"CREATE TABLE employees (id INTEGER PRIMARY KEY, name TEXT, salary REAL)\")\n",
        "        self.cursor.execute(\"INSERT INTO employees (name, salary) VALUES ('Ylva Guiomar', 1800.0)\")\n",
        "        self.cursor.execute(\"INSERT INTO employees (name, salary) VALUES ('Scott Gregorius', 2100.0)\")\n",
        "        self.conn.commit()\n",
        "\n",
        "    def tearDown(self):\n",
        "        self.cursor.close()\n",
        "        self.conn.close()\n",
        "\n",
        "    def test_database_query(self):\n",
        "        self.cursor.execute(\"SELECT name, salary FROM employees ORDER BY name\")\n",
        "        results = self.cursor.fetchall()\n",
        "        expected_results = [('Scott Gregorius', 2100.0), ('Ylva Guiomar', 1800.0)]\n",
        "        self.assertEqual(results, expected_results)\n",
        "\n",
        "if __name__ == '__main__':\n",
        "    unittest.main()\n"
      ],
      "metadata": {
        "id": "QJfQvhU72zh6"
      },
      "execution_count": null,
      "outputs": []
    },
    {
      "cell_type": "code",
      "source": [
        "#10. Write a Python unit test program to check if a function correctly parses and validates input data.\n",
        "import unittest\n",
        "\n",
        "def parse_and_validate_input(data):\n",
        "    if isinstance(data, str) and data.isnumeric():\n",
        "        return int(data) > 0\n",
        "    return False\n",
        "\n",
        "class TestInputParsing(unittest.TestCase):\n",
        "    def test_valid_input(self):\n",
        "        data = \"100\"\n",
        "        result = parse_and_validate_input(data)\n",
        "        self.assertTrue(result)\n",
        "\n",
        "    def test_invalid_input(self):\n",
        "        data = \"Hello\"\n",
        "        result = parse_and validate_input(data)\n",
        "        self.assertFalse(result)\n",
        "\n",
        "if __name__ == '__main__':\n",
        "    unittest.main()\n"
      ],
      "metadata": {
        "id": "glljBPFr21pw"
      },
      "execution_count": null,
      "outputs": []
    }
  ]
}