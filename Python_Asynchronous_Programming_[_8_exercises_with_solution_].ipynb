{
  "nbformat": 4,
  "nbformat_minor": 0,
  "metadata": {
    "colab": {
      "provenance": []
    },
    "kernelspec": {
      "name": "python3",
      "display_name": "Python 3"
    },
    "language_info": {
      "name": "python"
    }
  },
  "cells": [
    {
      "cell_type": "code",
      "execution_count": 3,
      "metadata": {
        "id": "2CHp-GVNfxAY",
        "colab": {
          "base_uri": "https://localhost:8080/",
          "height": 297
        },
        "outputId": "ff99c190-ddb3-4880-b4ac-fd39669db046"
      },
      "outputs": [
        {
          "output_type": "error",
          "ename": "RuntimeError",
          "evalue": "asyncio.run() cannot be called from a running event loop",
          "traceback": [
            "\u001b[0;31m---------------------------------------------------------------------------\u001b[0m",
            "\u001b[0;31mRuntimeError\u001b[0m                              Traceback (most recent call last)",
            "\u001b[0;32m<ipython-input-3-fbe8f95c3236>\u001b[0m in \u001b[0;36m<cell line: 11>\u001b[0;34m()\u001b[0m\n\u001b[1;32m      9\u001b[0m     \u001b[0;32mawait\u001b[0m \u001b[0mprint_delayed_message\u001b[0m\u001b[0;34m(\u001b[0m\u001b[0;34m)\u001b[0m\u001b[0;34m\u001b[0m\u001b[0;34m\u001b[0m\u001b[0m\n\u001b[1;32m     10\u001b[0m \u001b[0;34m\u001b[0m\u001b[0m\n\u001b[0;32m---> 11\u001b[0;31m \u001b[0masyncio\u001b[0m\u001b[0;34m.\u001b[0m\u001b[0mrun\u001b[0m\u001b[0;34m(\u001b[0m\u001b[0mmain\u001b[0m\u001b[0;34m(\u001b[0m\u001b[0;34m)\u001b[0m\u001b[0;34m)\u001b[0m\u001b[0;34m\u001b[0m\u001b[0;34m\u001b[0m\u001b[0m\n\u001b[0m",
            "\u001b[0;32m/usr/lib/python3.10/asyncio/runners.py\u001b[0m in \u001b[0;36mrun\u001b[0;34m(main, debug)\u001b[0m\n\u001b[1;32m     31\u001b[0m     \"\"\"\n\u001b[1;32m     32\u001b[0m     \u001b[0;32mif\u001b[0m \u001b[0mevents\u001b[0m\u001b[0;34m.\u001b[0m\u001b[0m_get_running_loop\u001b[0m\u001b[0;34m(\u001b[0m\u001b[0;34m)\u001b[0m \u001b[0;32mis\u001b[0m \u001b[0;32mnot\u001b[0m \u001b[0;32mNone\u001b[0m\u001b[0;34m:\u001b[0m\u001b[0;34m\u001b[0m\u001b[0;34m\u001b[0m\u001b[0m\n\u001b[0;32m---> 33\u001b[0;31m         raise RuntimeError(\n\u001b[0m\u001b[1;32m     34\u001b[0m             \"asyncio.run() cannot be called from a running event loop\")\n\u001b[1;32m     35\u001b[0m \u001b[0;34m\u001b[0m\u001b[0m\n",
            "\u001b[0;31mRuntimeError\u001b[0m: asyncio.run() cannot be called from a running event loop"
          ]
        }
      ],
      "source": [
        "#1. Write a Python program that creates an asynchronous function to print \"Python Exercises!\" with a two second delay.\n",
        "import asyncio\n",
        "\n",
        "async def print_delayed_message():\n",
        "    await asyncio.sleep(2)\n",
        "    print(\"Python Exercises!\")\n",
        "\n",
        "async def main():\n",
        "    await print_delayed_message()\n",
        "\n",
        "asyncio.run(main())\n"
      ]
    },
    {
      "cell_type": "code",
      "source": [
        "#2. Write a Python program that creates three asynchronous functions and displays their respective names with different delays (1 second, 2 seconds, and 3 seconds).\n",
        "import asyncio\n",
        "async def display_name_with_delay(name, delay):\n",
        "    await asyncio.sleep(delay)\n",
        "    print(name)\n",
        "async def main():\n",
        "    tasks = [\n",
        "        display_name_with_delay(\"Asyn. function-1\", 1),\n",
        "        display_name_with_delay(\"Asyn. function-2\", 2),\n",
        "        display_name_with_delay(\"Asyn. function-3\", 3)\n",
        "    ]\n",
        "    await asyncio.gather(*tasks)\n",
        "asyncio.run(main())\n"
      ],
      "metadata": {
        "id": "A54mOdmdf1PJ"
      },
      "execution_count": null,
      "outputs": []
    },
    {
      "cell_type": "code",
      "source": [
        "#3. Write a Python program that creates an asyncio event loop and runs a coroutine that prints numbers from 1 to 7 with a delay of 1 second each.\n",
        "import asyncio\n",
        "async def display_numbers():\n",
        "    for i in range(1, 8):\n",
        "        print(i)\n",
        "        await asyncio.sleep(1)\n",
        "asyncio.run(display_numbers())\n"
      ],
      "metadata": {
        "id": "ClOC66Wpf3bX"
      },
      "execution_count": null,
      "outputs": []
    },
    {
      "cell_type": "code",
      "source": [
        "#4. Write a Python program that implements a coroutine to fetch data from two different URLs simultaneously using the \"aiohttp\" library.\n",
        "import asyncio\n",
        "import aiohttp\n",
        "async def fetch_url(url):\n",
        "    async with aiohttp.ClientSession() as session:\n",
        "        async with session.get(url) as response:\n",
        "            return await response.text()\n",
        "async def main():\n",
        "    url_1 = \"https://www.wikipedia.org/\"\n",
        "    url_2 = \"https://www.google.com\"\n",
        "    task1 = asyncio.create_task(fetch_url(url_1))\n",
        "    task2 = asyncio.create_task(fetch_url(url_2))\n",
        "    data1 = await task1\n",
        "    data2 = await task2\n",
        "    print(\"Data from \",url_1, len(data1), \"bytes\")\n",
        "    print(\"Data from \",url_2, len(data2), \"bytes\")\n",
        "asyncio.run(main())\n"
      ],
      "metadata": {
        "id": "YN6CrQfcf6rN"
      },
      "execution_count": null,
      "outputs": []
    },
    {
      "cell_type": "code",
      "source": [
        "#5. Write a Python program that runs multiple asynchronous tasks concurrently using asyncio.gather() and measures the time taken.\n",
        "import asyncio\n",
        "import time\n",
        "async def task1():\n",
        "    print(\"Task-1 started\")\n",
        "    await asyncio.sleep(4)\n",
        "    print(\"Task-1 completed\")\n",
        "async def task2():\n",
        "    print(\"Task-2 started\")\n",
        "    await asyncio.sleep(1)\n",
        "    print(\"Task-2 completed\")\n",
        "async def task3():\n",
        "    print(\"Task-3 started\\n\")\n",
        "    await asyncio.sleep(2)\n",
        "    print(\"Task-3 completed\")\n",
        "\n",
        "async def main():\n",
        "    start_time = time.time()\n",
        "    await asyncio.gather(task1(), task2(), task3())\n",
        "    end_time = time.time()\n",
        "    elapsed_time = end_time - start_time\n",
        "    print(\"\\nAll tasks completed in {:.2f} seconds\".format(elapsed_time))\n",
        "asyncio.run(main())\n"
      ],
      "metadata": {
        "id": "75aLfsWBf7tt"
      },
      "execution_count": null,
      "outputs": []
    },
    {
      "cell_type": "code",
      "source": [
        "#6. Write a Python program to create a coroutine that simulates a time-consuming task and use asyncio.CancelledError to handle task cancellation.\n",
        "import asyncio\n",
        "import random\n",
        "async def time_consuming_task():\n",
        "    print('Time-consuming task started...')\n",
        "    try:\n",
        "        for i in range(1, 6):\n",
        "            await asyncio.sleep(random.randint(1,5))\n",
        "            print(f'Step {i} completed')\n",
        "    except asyncio.CancelledError:\n",
        "        print('Time consuming task was cancelled')\n",
        "        raise\n",
        "async def main():\n",
        "    task = asyncio.create_task(time_consuming_task())\n",
        "    await asyncio.sleep(random.randint(1,3))\n",
        "    task.cancel()\n",
        "    try:\n",
        "        await task\n",
        "    except asyncio.CancelledError:\n",
        "        print('Main coroutine caught task cancellation!')\n",
        "asyncio.run(main())\n"
      ],
      "metadata": {
        "id": "ujLv8Kusf-Z4"
      },
      "execution_count": null,
      "outputs": []
    },
    {
      "cell_type": "code",
      "source": [
        "#7. Write a Python program that implements a timeout for an asynchronous operation using asyncio.wait_for().\n",
        "import asyncio\n",
        "import time\n",
        "\n",
        "async def time_consuming_task(duration):\n",
        "    print(f'Starting long operation for {duration} seconds...')\n",
        "    await asyncio.sleep(duration)\n",
        "    return f'Long operation completed in {duration} seconds'\n",
        "async def main():\n",
        "    timeout =3\n",
        "    try:\n",
        "        result = await asyncio.wait_for(time_consuming_task(8), timeout)\n",
        "        print(result)\n",
        "    except asyncio.TimeoutError:\n",
        "        print(f'Timeout occurred after waiting for {timeout} seconds')\n",
        "asyncio.run(main())\n"
      ],
      "metadata": {
        "id": "1I3ALTsGf_HU"
      },
      "execution_count": null,
      "outputs": []
    },
    {
      "cell_type": "code",
      "source": [
        "#8. Write a Python program that uses asyncio queues to simulate a producer-consumer scenario with multiple producers and a single consumer.\n",
        "import asyncio\n",
        "import random\n",
        "async def producer(queue, id):\n",
        "    for i in range(3):\n",
        "        item = f\"Item: {id}-{i}\"\n",
        "        await queue.put(item)\n",
        "        print(f\"Producer {id} produced-> {item}\")\n",
        "        await asyncio.sleep(random.uniform(0.1, 0.5))\n",
        "async def consumer(queue):\n",
        "    while True:\n",
        "        item = await queue.get()\n",
        "        if item is None:\n",
        "            break\n",
        "        print(f\"Consumer consumed {item}\")\n",
        "        queue.task_done()\n",
        "async def main():\n",
        "    queue = asyncio.Queue()\n",
        "    producers = [asyncio.create_task(producer(queue, i)) for i in range(3)]\n",
        "    consumer_task = asyncio.create_task(consumer(queue))\n",
        "    await asyncio.gather(*producers)\n",
        "    await queue.join()\n",
        "    await queue.put(None)\n",
        "    await consumer_task\n",
        "asyncio.run(main())\n"
      ],
      "metadata": {
        "id": "gOsTFDoEgCDj"
      },
      "execution_count": null,
      "outputs": []
    }
  ]
}